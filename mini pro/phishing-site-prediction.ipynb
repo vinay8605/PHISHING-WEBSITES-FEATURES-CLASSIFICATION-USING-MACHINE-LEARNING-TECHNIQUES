{
 "cells": [
  {
   "cell_type": "markdown",
   "metadata": {
    "papermill": {
     "duration": 0.050357,
     "end_time": "2021-03-04T05:34:32.370358",
     "exception": false,
     "start_time": "2021-03-04T05:34:32.320001",
     "status": "completed"
    },
    "tags": []
   },
   "source": [
    "# Phishing URL Detection"
   ]
  },
  {
   "cell_type": "code",
   "execution_count": 1,
   "metadata": {
    "_cell_guid": "b1076dfc-b9ad-4769-8c92-a6c4dae69d19",
    "_uuid": "8f2839f25d086af736a60e9eeb907d3b93b6e0e5",
    "execution": {
     "iopub.execute_input": "2021-03-04T05:34:32.477481Z",
     "iopub.status.busy": "2021-03-04T05:34:32.476676Z",
     "iopub.status.idle": "2021-03-04T05:34:34.251362Z",
     "shell.execute_reply": "2021-03-04T05:34:34.252005Z"
    },
    "papermill": {
     "duration": 1.833152,
     "end_time": "2021-03-04T05:34:34.252381",
     "exception": false,
     "start_time": "2021-03-04T05:34:32.419229",
     "status": "completed"
    },
    "tags": []
   },
   "outputs": [],
   "source": [
    "# importing some useful libraries\n",
    "import pandas as pd\n",
    "import numpy as np\n",
    "import matplotlib.pyplot as plt\n",
    "%matplotlib inline\n",
    "import seaborn as sns  \n",
    "import time \n",
    "\n",
    "from sklearn.metrics import classification_report\n",
    "from sklearn.metrics import confusion_matrix\n",
    "from nltk.tokenize import RegexpTokenizer  \n",
    "from nltk.stem.snowball import SnowballStemmer\n",
    "from sklearn.feature_extraction.text import CountVectorizer  \n",
    "from sklearn.pipeline import make_pipeline\n",
    "\n",
    "from PIL import Image\n",
    "from wordcloud import WordCloud, STOPWORDS, ImageColorGenerator\n",
    "import pickle \n",
    "import warnings\n",
    "warnings.filterwarnings('ignore')"
   ]
  },
  {
   "cell_type": "code",
   "execution_count": 2,
   "metadata": {
    "execution": {
     "iopub.execute_input": "2021-03-04T05:34:34.355276Z",
     "iopub.status.busy": "2021-03-04T05:34:34.354412Z",
     "iopub.status.idle": "2021-03-04T05:34:35.589568Z",
     "shell.execute_reply": "2021-03-04T05:34:35.590036Z"
    },
    "papermill": {
     "duration": 1.286757,
     "end_time": "2021-03-04T05:34:35.590209",
     "exception": false,
     "start_time": "2021-03-04T05:34:34.303452",
     "status": "completed"
    },
    "tags": []
   },
   "outputs": [],
   "source": [
    "# Loading the dataset\n",
    "df= pd.read_csv(r\"C:\\Users\\Ganesh\\mini pro\\phishing_site_urls.csv\")"
   ]
  },
  {
   "cell_type": "code",
   "execution_count": 3,
   "metadata": {
    "execution": {
     "iopub.execute_input": "2021-03-04T05:34:35.658606Z",
     "iopub.status.busy": "2021-03-04T05:34:35.657971Z",
     "iopub.status.idle": "2021-03-04T05:34:35.685017Z",
     "shell.execute_reply": "2021-03-04T05:34:35.685530Z"
    },
    "papermill": {
     "duration": 0.062722,
     "end_time": "2021-03-04T05:34:35.685688",
     "exception": false,
     "start_time": "2021-03-04T05:34:35.622966",
     "status": "completed"
    },
    "tags": []
   },
   "outputs": [
    {
     "data": {
      "text/html": [
       "<div>\n",
       "<style scoped>\n",
       "    .dataframe tbody tr th:only-of-type {\n",
       "        vertical-align: middle;\n",
       "    }\n",
       "\n",
       "    .dataframe tbody tr th {\n",
       "        vertical-align: top;\n",
       "    }\n",
       "\n",
       "    .dataframe thead th {\n",
       "        text-align: right;\n",
       "    }\n",
       "</style>\n",
       "<table border=\"1\" class=\"dataframe\">\n",
       "  <thead>\n",
       "    <tr style=\"text-align: right;\">\n",
       "      <th></th>\n",
       "      <th>URL</th>\n",
       "      <th>Label</th>\n",
       "    </tr>\n",
       "  </thead>\n",
       "  <tbody>\n",
       "    <tr>\n",
       "      <th>0</th>\n",
       "      <td>nobell.it/70ffb52d079109dca5664cce6f317373782/...</td>\n",
       "      <td>bad</td>\n",
       "    </tr>\n",
       "    <tr>\n",
       "      <th>1</th>\n",
       "      <td>www.dghjdgf.com/paypal.co.uk/cycgi-bin/webscrc...</td>\n",
       "      <td>bad</td>\n",
       "    </tr>\n",
       "    <tr>\n",
       "      <th>2</th>\n",
       "      <td>serviciosbys.com/paypal.cgi.bin.get-into.herf....</td>\n",
       "      <td>bad</td>\n",
       "    </tr>\n",
       "    <tr>\n",
       "      <th>3</th>\n",
       "      <td>mail.printakid.com/www.online.americanexpress....</td>\n",
       "      <td>bad</td>\n",
       "    </tr>\n",
       "    <tr>\n",
       "      <th>4</th>\n",
       "      <td>thewhiskeydregs.com/wp-content/themes/widescre...</td>\n",
       "      <td>bad</td>\n",
       "    </tr>\n",
       "  </tbody>\n",
       "</table>\n",
       "</div>"
      ],
      "text/plain": [
       "                                                 URL Label\n",
       "0  nobell.it/70ffb52d079109dca5664cce6f317373782/...   bad\n",
       "1  www.dghjdgf.com/paypal.co.uk/cycgi-bin/webscrc...   bad\n",
       "2  serviciosbys.com/paypal.cgi.bin.get-into.herf....   bad\n",
       "3  mail.printakid.com/www.online.americanexpress....   bad\n",
       "4  thewhiskeydregs.com/wp-content/themes/widescre...   bad"
      ]
     },
     "execution_count": 3,
     "metadata": {},
     "output_type": "execute_result"
    }
   ],
   "source": [
    "df.head()"
   ]
  },
  {
   "cell_type": "code",
   "execution_count": 4,
   "metadata": {
    "execution": {
     "iopub.execute_input": "2021-03-04T05:34:35.757018Z",
     "iopub.status.busy": "2021-03-04T05:34:35.756411Z",
     "iopub.status.idle": "2021-03-04T05:34:35.917627Z",
     "shell.execute_reply": "2021-03-04T05:34:35.916913Z"
    },
    "papermill": {
     "duration": 0.197985,
     "end_time": "2021-03-04T05:34:35.917792",
     "exception": false,
     "start_time": "2021-03-04T05:34:35.719807",
     "status": "completed"
    },
    "tags": []
   },
   "outputs": [
    {
     "name": "stdout",
     "output_type": "stream",
     "text": [
      "<class 'pandas.core.frame.DataFrame'>\n",
      "RangeIndex: 549357 entries, 0 to 549356\n",
      "Data columns (total 2 columns):\n",
      " #   Column  Non-Null Count   Dtype \n",
      "---  ------  --------------   ----- \n",
      " 0   URL     549357 non-null  object\n",
      " 1   Label   549357 non-null  object\n",
      "dtypes: object(2)\n",
      "memory usage: 8.4+ MB\n"
     ]
    }
   ],
   "source": [
    "df.info()"
   ]
  },
  {
   "cell_type": "code",
   "execution_count": 5,
   "metadata": {
    "execution": {
     "iopub.execute_input": "2021-03-04T05:34:35.990278Z",
     "iopub.status.busy": "2021-03-04T05:34:35.989536Z",
     "iopub.status.idle": "2021-03-04T05:34:35.994797Z",
     "shell.execute_reply": "2021-03-04T05:34:35.994211Z"
    },
    "papermill": {
     "duration": 0.042624,
     "end_time": "2021-03-04T05:34:35.994915",
     "exception": false,
     "start_time": "2021-03-04T05:34:35.952291",
     "status": "completed"
    },
    "tags": []
   },
   "outputs": [
    {
     "data": {
      "text/plain": [
       "(549357, 2)"
      ]
     },
     "execution_count": 5,
     "metadata": {},
     "output_type": "execute_result"
    }
   ],
   "source": [
    "df.shape"
   ]
  },
  {
   "cell_type": "code",
   "execution_count": 6,
   "metadata": {
    "execution": {
     "iopub.execute_input": "2021-03-04T05:34:36.275958Z",
     "iopub.status.busy": "2021-03-04T05:34:36.275379Z",
     "iopub.status.idle": "2021-03-04T05:34:36.284953Z",
     "shell.execute_reply": "2021-03-04T05:34:36.284488Z"
    },
    "papermill": {
     "duration": 0.190096,
     "end_time": "2021-03-04T05:34:36.285072",
     "exception": false,
     "start_time": "2021-03-04T05:34:36.094976",
     "status": "completed"
    },
    "tags": []
   },
   "outputs": [
    {
     "data": {
      "text/plain": [
       "URL      0\n",
       "Label    0\n",
       "dtype: int64"
      ]
     },
     "execution_count": 6,
     "metadata": {},
     "output_type": "execute_result"
    }
   ],
   "source": [
    "df.isnull().sum()"
   ]
  },
  {
   "cell_type": "code",
   "execution_count": 7,
   "metadata": {
    "execution": {
     "iopub.execute_input": "2021-03-04T05:34:36.428527Z",
     "iopub.status.busy": "2021-03-04T05:34:36.427766Z",
     "iopub.status.idle": "2021-03-04T05:34:37.351741Z",
     "shell.execute_reply": "2021-03-04T05:34:37.352264Z"
    },
    "papermill": {
     "duration": 1.032316,
     "end_time": "2021-03-04T05:34:37.352429",
     "exception": false,
     "start_time": "2021-03-04T05:34:36.320113",
     "status": "completed"
    },
    "tags": []
   },
   "outputs": [
    {
     "data": {
      "text/plain": [
       "<AxesSubplot:xlabel='Label', ylabel='count'>"
      ]
     },
     "execution_count": 7,
     "metadata": {},
     "output_type": "execute_result"
    },
    {
     "data": {
      "image/png": "[encoded data removed]",
      "text/plain": [
       "<Figure size 640x480 with 1 Axes>"
      ]
     },
     "metadata": {},
     "output_type": "display_data"
    }
   ],
   "source": [
    "sns.countplot(x=\"Label\",data=df)"
   ]
  },
  {
   "cell_type": "markdown",
   "metadata": {
    "papermill": {
     "duration": 0.054583,
     "end_time": "2021-03-04T05:34:37.443783",
     "exception": false,
     "start_time": "2021-03-04T05:34:37.389200",
     "status": "completed"
    },
    "tags": []
   },
   "source": [
    "### PREPROCESSING"
   ]
  },
  {
   "cell_type": "markdown",
   "metadata": {
    "papermill": {
     "duration": 0.054585,
     "end_time": "2021-03-04T05:34:37.553282",
     "exception": false,
     "start_time": "2021-03-04T05:34:37.498697",
     "status": "completed"
    },
    "tags": []
   },
   "source": [
    "#### Now we can Vectoize the URLs.We can gather words from the URLs using Tokenizer\n",
    "### RegexpTokenizer\n",
    "#### we are able to extract the tokens from string by using regular expression with RegexpTokenizer() method."
   ]
  },
  {
   "cell_type": "code",
   "execution_count": 8,
   "metadata": {
    "execution": {
     "iopub.execute_input": "2021-03-04T05:34:37.666662Z",
     "iopub.status.busy": "2021-03-04T05:34:37.665732Z",
     "iopub.status.idle": "2021-03-04T05:34:37.670316Z",
     "shell.execute_reply": "2021-03-04T05:34:37.669509Z"
    },
    "papermill": {
     "duration": 0.063116,
     "end_time": "2021-03-04T05:34:37.670469",
     "exception": false,
     "start_time": "2021-03-04T05:34:37.607353",
     "status": "completed"
    },
    "tags": []
   },
   "outputs": [],
   "source": [
    "tokenizer = RegexpTokenizer(r'[A-Za-z]+')"
   ]
  },
  {
   "cell_type": "code",
   "execution_count": 9,
   "metadata": {
    "execution": {
     "iopub.execute_input": "2021-03-04T05:34:37.787441Z",
     "iopub.status.busy": "2021-03-04T05:34:37.786458Z",
     "iopub.status.idle": "2021-03-04T05:34:37.791047Z",
     "shell.execute_reply": "2021-03-04T05:34:37.790577Z"
    },
    "papermill": {
     "duration": 0.065585,
     "end_time": "2021-03-04T05:34:37.791176",
     "exception": false,
     "start_time": "2021-03-04T05:34:37.725591",
     "status": "completed"
    },
    "tags": []
   },
   "outputs": [
    {
     "data": {
      "text/plain": [
       "['nobell',\n",
       " 'it',\n",
       " 'ffb',\n",
       " 'd',\n",
       " 'dca',\n",
       " 'cce',\n",
       " 'f',\n",
       " 'login',\n",
       " 'SkyPe',\n",
       " 'com',\n",
       " 'en',\n",
       " 'cgi',\n",
       " 'bin',\n",
       " 'verification',\n",
       " 'login',\n",
       " 'ffb',\n",
       " 'd',\n",
       " 'dca',\n",
       " 'cce',\n",
       " 'f',\n",
       " 'index',\n",
       " 'php',\n",
       " 'cmd',\n",
       " 'profile',\n",
       " 'ach',\n",
       " 'outdated',\n",
       " 'page',\n",
       " 'tmpl',\n",
       " 'p',\n",
       " 'gen',\n",
       " 'failed',\n",
       " 'to',\n",
       " 'load',\n",
       " 'nav',\n",
       " 'login',\n",
       " 'access']"
      ]
     },
     "execution_count": 9,
     "metadata": {},
     "output_type": "execute_result"
    }
   ],
   "source": [
    "tokenizer.tokenize(df.URL[0]) # this will fetch all the words from the first URL"
   ]
  },
  {
   "cell_type": "code",
   "execution_count": 10,
   "metadata": {
    "execution": {
     "iopub.execute_input": "2021-03-04T05:34:37.878768Z",
     "iopub.status.busy": "2021-03-04T05:34:37.873431Z",
     "iopub.status.idle": "2021-03-04T05:34:40.581866Z",
     "shell.execute_reply": "2021-03-04T05:34:40.580949Z"
    },
    "papermill": {
     "duration": 2.755173,
     "end_time": "2021-03-04T05:34:40.582049",
     "exception": false,
     "start_time": "2021-03-04T05:34:37.826876",
     "status": "completed"
    },
    "tags": []
   },
   "outputs": [],
   "source": [
    "# Tokenizing all the rows \n",
    "df['text_tokenized'] = df.URL.map(lambda t: tokenizer.tokenize(t))"
   ]
  },
  {
   "cell_type": "code",
   "execution_count": 11,
   "metadata": {
    "execution": {
     "iopub.execute_input": "2021-03-04T05:34:40.669965Z",
     "iopub.status.busy": "2021-03-04T05:34:40.669197Z",
     "iopub.status.idle": "2021-03-04T05:34:40.745029Z",
     "shell.execute_reply": "2021-03-04T05:34:40.744428Z"
    },
    "papermill": {
     "duration": 0.122448,
     "end_time": "2021-03-04T05:34:40.745156",
     "exception": false,
     "start_time": "2021-03-04T05:34:40.622708",
     "status": "completed"
    },
    "tags": []
   },
   "outputs": [
    {
     "data": {
      "text/html": [
       "<div>\n",
       "<style scoped>\n",
       "    .dataframe tbody tr th:only-of-type {\n",
       "        vertical-align: middle;\n",
       "    }\n",
       "\n",
       "    .dataframe tbody tr th {\n",
       "        vertical-align: top;\n",
       "    }\n",
       "\n",
       "    .dataframe thead th {\n",
       "        text-align: right;\n",
       "    }\n",
       "</style>\n",
       "<table border=\"1\" class=\"dataframe\">\n",
       "  <thead>\n",
       "    <tr style=\"text-align: right;\">\n",
       "      <th></th>\n",
       "      <th>URL</th>\n",
       "      <th>Label</th>\n",
       "      <th>text_tokenized</th>\n",
       "    </tr>\n",
       "  </thead>\n",
       "  <tbody>\n",
       "    <tr>\n",
       "      <th>325240</th>\n",
       "      <td>experiencefestival.com/a/William_Grey_Walter/i...</td>\n",
       "      <td>good</td>\n",
       "      <td>[experiencefestival, com, a, William, Grey, Wa...</td>\n",
       "    </tr>\n",
       "    <tr>\n",
       "      <th>42777</th>\n",
       "      <td>information-box.com/wp-content/nordea.dk/websc...</td>\n",
       "      <td>bad</td>\n",
       "      <td>[information, box, com, wp, content, nordea, d...</td>\n",
       "    </tr>\n",
       "    <tr>\n",
       "      <th>119782</th>\n",
       "      <td>alejandraandelliot.com/wp-content/themes/twent...</td>\n",
       "      <td>bad</td>\n",
       "      <td>[alejandraandelliot, com, wp, content, themes,...</td>\n",
       "    </tr>\n",
       "    <tr>\n",
       "      <th>482087</th>\n",
       "      <td>yourbittorrent.com/?q=musique-kabyle</td>\n",
       "      <td>good</td>\n",
       "      <td>[yourbittorrent, com, q, musique, kabyle]</td>\n",
       "    </tr>\n",
       "    <tr>\n",
       "      <th>364913</th>\n",
       "      <td>jdjournal.com/2009/03/16/mcmillan-absorbs-thac...</td>\n",
       "      <td>good</td>\n",
       "      <td>[jdjournal, com, mcmillan, absorbs, thackray, ...</td>\n",
       "    </tr>\n",
       "  </tbody>\n",
       "</table>\n",
       "</div>"
      ],
      "text/plain": [
       "                                                      URL Label  \\\n",
       "325240  experiencefestival.com/a/William_Grey_Walter/i...  good   \n",
       "42777   information-box.com/wp-content/nordea.dk/websc...   bad   \n",
       "119782  alejandraandelliot.com/wp-content/themes/twent...   bad   \n",
       "482087               yourbittorrent.com/?q=musique-kabyle  good   \n",
       "364913  jdjournal.com/2009/03/16/mcmillan-absorbs-thac...  good   \n",
       "\n",
       "                                           text_tokenized  \n",
       "325240  [experiencefestival, com, a, William, Grey, Wa...  \n",
       "42777   [information, box, com, wp, content, nordea, d...  \n",
       "119782  [alejandraandelliot, com, wp, content, themes,...  \n",
       "482087          [yourbittorrent, com, q, musique, kabyle]  \n",
       "364913  [jdjournal, com, mcmillan, absorbs, thackray, ...  "
      ]
     },
     "execution_count": 11,
     "metadata": {},
     "output_type": "execute_result"
    }
   ],
   "source": [
    "df.sample(5)"
   ]
  },
  {
   "cell_type": "markdown",
   "metadata": {
    "papermill": {
     "duration": 0.036651,
     "end_time": "2021-03-04T05:34:40.820068",
     "exception": false,
     "start_time": "2021-03-04T05:34:40.783417",
     "status": "completed"
    },
    "tags": []
   },
   "source": [
    "### SnowballStemmer\n",
    "#### Snowball is a small string processing language that gives the root words"
   ]
  },
  {
   "cell_type": "code",
   "execution_count": 12,
   "metadata": {
    "execution": {
     "iopub.execute_input": "2021-03-04T05:34:40.899226Z",
     "iopub.status.busy": "2021-03-04T05:34:40.898597Z",
     "iopub.status.idle": "2021-03-04T05:34:40.902174Z",
     "shell.execute_reply": "2021-03-04T05:34:40.901626Z"
    },
    "papermill": {
     "duration": 0.044915,
     "end_time": "2021-03-04T05:34:40.902313",
     "exception": false,
     "start_time": "2021-03-04T05:34:40.857398",
     "status": "completed"
    },
    "tags": []
   },
   "outputs": [],
   "source": [
    "stemmer = SnowballStemmer(\"english\") # choose a language"
   ]
  },
  {
   "cell_type": "code",
   "execution_count": 13,
   "metadata": {
    "execution": {
     "iopub.execute_input": "2021-03-04T05:34:40.982815Z",
     "iopub.status.busy": "2021-03-04T05:34:40.981938Z",
     "iopub.status.idle": "2021-03-04T05:35:39.626901Z",
     "shell.execute_reply": "2021-03-04T05:35:39.627404Z"
    },
    "papermill": {
     "duration": 58.687578,
     "end_time": "2021-03-04T05:35:39.627564",
     "exception": false,
     "start_time": "2021-03-04T05:34:40.939986",
     "status": "completed"
    },
    "tags": []
   },
   "outputs": [],
   "source": [
    "df['text_stemmed'] = df['text_tokenized'].map(lambda l: [stemmer.stem(word) for word in l])"
   ]
  },
  {
   "cell_type": "code",
   "execution_count": 14,
   "metadata": {
    "execution": {
     "iopub.execute_input": "2021-03-04T05:35:39.707149Z",
     "iopub.status.busy": "2021-03-04T05:35:39.706583Z",
     "iopub.status.idle": "2021-03-04T05:35:39.824984Z",
     "shell.execute_reply": "2021-03-04T05:35:39.824273Z"
    },
    "papermill": {
     "duration": 0.1597,
     "end_time": "2021-03-04T05:35:39.825115",
     "exception": false,
     "start_time": "2021-03-04T05:35:39.665415",
     "status": "completed"
    },
    "tags": []
   },
   "outputs": [
    {
     "data": {
      "text/html": [
       "<div>\n",
       "<style scoped>\n",
       "    .dataframe tbody tr th:only-of-type {\n",
       "        vertical-align: middle;\n",
       "    }\n",
       "\n",
       "    .dataframe tbody tr th {\n",
       "        vertical-align: top;\n",
       "    }\n",
       "\n",
       "    .dataframe thead th {\n",
       "        text-align: right;\n",
       "    }\n",
       "</style>\n",
       "<table border=\"1\" class=\"dataframe\">\n",
       "  <thead>\n",
       "    <tr style=\"text-align: right;\">\n",
       "      <th></th>\n",
       "      <th>URL</th>\n",
       "      <th>Label</th>\n",
       "      <th>text_tokenized</th>\n",
       "      <th>text_stemmed</th>\n",
       "    </tr>\n",
       "  </thead>\n",
       "  <tbody>\n",
       "    <tr>\n",
       "      <th>115915</th>\n",
       "      <td>hqprocess.com/wp-includes/certificates/id858-3...</td>\n",
       "      <td>bad</td>\n",
       "      <td>[hqprocess, com, wp, includes, certificates, i...</td>\n",
       "      <td>[hqprocess, com, wp, includ, certif, id, p]</td>\n",
       "    </tr>\n",
       "    <tr>\n",
       "      <th>33860</th>\n",
       "      <td>service.confirm.paypal.cmd.cgi-bin.2466sd4f3e6...</td>\n",
       "      <td>bad</td>\n",
       "      <td>[service, confirm, paypal, cmd, cgi, bin, sd, ...</td>\n",
       "      <td>[servic, confirm, paypal, cmd, cgi, bin, sd, f...</td>\n",
       "    </tr>\n",
       "    <tr>\n",
       "      <th>316944</th>\n",
       "      <td>dramafans.org/drama/dance_drill</td>\n",
       "      <td>good</td>\n",
       "      <td>[dramafans, org, drama, dance, drill]</td>\n",
       "      <td>[dramafan, org, drama, danc, drill]</td>\n",
       "    </tr>\n",
       "    <tr>\n",
       "      <th>293882</th>\n",
       "      <td>bondwolfe.net/bars.asp</td>\n",
       "      <td>good</td>\n",
       "      <td>[bondwolfe, net, bars, asp]</td>\n",
       "      <td>[bondwolf, net, bar, asp]</td>\n",
       "    </tr>\n",
       "    <tr>\n",
       "      <th>359565</th>\n",
       "      <td>imdb.com/name/nm1553725/</td>\n",
       "      <td>good</td>\n",
       "      <td>[imdb, com, name, nm]</td>\n",
       "      <td>[imdb, com, name, nm]</td>\n",
       "    </tr>\n",
       "  </tbody>\n",
       "</table>\n",
       "</div>"
      ],
      "text/plain": [
       "                                                      URL Label  \\\n",
       "115915  hqprocess.com/wp-includes/certificates/id858-3...   bad   \n",
       "33860   service.confirm.paypal.cmd.cgi-bin.2466sd4f3e6...   bad   \n",
       "316944                    dramafans.org/drama/dance_drill  good   \n",
       "293882                             bondwolfe.net/bars.asp  good   \n",
       "359565                           imdb.com/name/nm1553725/  good   \n",
       "\n",
       "                                           text_tokenized  \\\n",
       "115915  [hqprocess, com, wp, includes, certificates, i...   \n",
       "33860   [service, confirm, paypal, cmd, cgi, bin, sd, ...   \n",
       "316944              [dramafans, org, drama, dance, drill]   \n",
       "293882                        [bondwolfe, net, bars, asp]   \n",
       "359565                              [imdb, com, name, nm]   \n",
       "\n",
       "                                             text_stemmed  \n",
       "115915        [hqprocess, com, wp, includ, certif, id, p]  \n",
       "33860   [servic, confirm, paypal, cmd, cgi, bin, sd, f...  \n",
       "316944                [dramafan, org, drama, danc, drill]  \n",
       "293882                          [bondwolf, net, bar, asp]  \n",
       "359565                              [imdb, com, name, nm]  "
      ]
     },
     "execution_count": 14,
     "metadata": {},
     "output_type": "execute_result"
    }
   ],
   "source": [
    "df.sample(5)"
   ]
  },
  {
   "cell_type": "code",
   "execution_count": 15,
   "metadata": {
    "execution": {
     "iopub.execute_input": "2021-03-04T05:35:39.909116Z",
     "iopub.status.busy": "2021-03-04T05:35:39.908512Z",
     "iopub.status.idle": "2021-03-04T05:35:40.261714Z",
     "shell.execute_reply": "2021-03-04T05:35:40.260861Z"
    },
    "papermill": {
     "duration": 0.39779,
     "end_time": "2021-03-04T05:35:40.261891",
     "exception": false,
     "start_time": "2021-03-04T05:35:39.864101",
     "status": "completed"
    },
    "tags": []
   },
   "outputs": [],
   "source": [
    "df['text_sent'] = df['text_stemmed'].map(lambda l: ' '.join(l))"
   ]
  },
  {
   "cell_type": "code",
   "execution_count": 16,
   "metadata": {
    "execution": {
     "iopub.execute_input": "2021-03-04T05:35:40.382931Z",
     "iopub.status.busy": "2021-03-04T05:35:40.382085Z",
     "iopub.status.idle": "2021-03-04T05:35:40.573871Z",
     "shell.execute_reply": "2021-03-04T05:35:40.573208Z"
    },
    "papermill": {
     "duration": 0.271221,
     "end_time": "2021-03-04T05:35:40.574012",
     "exception": false,
     "start_time": "2021-03-04T05:35:40.302791",
     "status": "completed"
    },
    "tags": []
   },
   "outputs": [],
   "source": [
    "bad_sites = df[df.Label == 'bad']\n",
    "good_sites = df[df.Label == 'good']"
   ]
  },
  {
   "cell_type": "code",
   "execution_count": 17,
   "metadata": {
    "execution": {
     "iopub.execute_input": "2021-03-04T05:35:40.671204Z",
     "iopub.status.busy": "2021-03-04T05:35:40.670399Z",
     "iopub.status.idle": "2021-03-04T05:35:40.676798Z",
     "shell.execute_reply": "2021-03-04T05:35:40.676140Z"
    },
    "papermill": {
     "duration": 0.062836,
     "end_time": "2021-03-04T05:35:40.676933",
     "exception": false,
     "start_time": "2021-03-04T05:35:40.614097",
     "status": "completed"
    },
    "tags": []
   },
   "outputs": [
    {
     "data": {
      "text/html": [
       "<div>\n",
       "<style scoped>\n",
       "    .dataframe tbody tr th:only-of-type {\n",
       "        vertical-align: middle;\n",
       "    }\n",
       "\n",
       "    .dataframe tbody tr th {\n",
       "        vertical-align: top;\n",
       "    }\n",
       "\n",
       "    .dataframe thead th {\n",
       "        text-align: right;\n",
       "    }\n",
       "</style>\n",
       "<table border=\"1\" class=\"dataframe\">\n",
       "  <thead>\n",
       "    <tr style=\"text-align: right;\">\n",
       "      <th></th>\n",
       "      <th>URL</th>\n",
       "      <th>Label</th>\n",
       "      <th>text_tokenized</th>\n",
       "      <th>text_stemmed</th>\n",
       "      <th>text_sent</th>\n",
       "    </tr>\n",
       "  </thead>\n",
       "  <tbody>\n",
       "    <tr>\n",
       "      <th>0</th>\n",
       "      <td>nobell.it/70ffb52d079109dca5664cce6f317373782/...</td>\n",
       "      <td>bad</td>\n",
       "      <td>[nobell, it, ffb, d, dca, cce, f, login, SkyPe...</td>\n",
       "      <td>[nobel, it, ffb, d, dca, cce, f, login, skype,...</td>\n",
       "      <td>nobel it ffb d dca cce f login skype com en cg...</td>\n",
       "    </tr>\n",
       "    <tr>\n",
       "      <th>1</th>\n",
       "      <td>www.dghjdgf.com/paypal.co.uk/cycgi-bin/webscrc...</td>\n",
       "      <td>bad</td>\n",
       "      <td>[www, dghjdgf, com, paypal, co, uk, cycgi, bin...</td>\n",
       "      <td>[www, dghjdgf, com, paypal, co, uk, cycgi, bin...</td>\n",
       "      <td>www dghjdgf com paypal co uk cycgi bin webscrc...</td>\n",
       "    </tr>\n",
       "    <tr>\n",
       "      <th>2</th>\n",
       "      <td>serviciosbys.com/paypal.cgi.bin.get-into.herf....</td>\n",
       "      <td>bad</td>\n",
       "      <td>[serviciosbys, com, paypal, cgi, bin, get, int...</td>\n",
       "      <td>[serviciosbi, com, paypal, cgi, bin, get, into...</td>\n",
       "      <td>serviciosbi com paypal cgi bin get into herf s...</td>\n",
       "    </tr>\n",
       "    <tr>\n",
       "      <th>3</th>\n",
       "      <td>mail.printakid.com/www.online.americanexpress....</td>\n",
       "      <td>bad</td>\n",
       "      <td>[mail, printakid, com, www, online, americanex...</td>\n",
       "      <td>[mail, printakid, com, www, onlin, americanexp...</td>\n",
       "      <td>mail printakid com www onlin americanexpress c...</td>\n",
       "    </tr>\n",
       "    <tr>\n",
       "      <th>4</th>\n",
       "      <td>thewhiskeydregs.com/wp-content/themes/widescre...</td>\n",
       "      <td>bad</td>\n",
       "      <td>[thewhiskeydregs, com, wp, content, themes, wi...</td>\n",
       "      <td>[thewhiskeydreg, com, wp, content, theme, wide...</td>\n",
       "      <td>thewhiskeydreg com wp content theme widescreen...</td>\n",
       "    </tr>\n",
       "  </tbody>\n",
       "</table>\n",
       "</div>"
      ],
      "text/plain": [
       "                                                 URL Label  \\\n",
       "0  nobell.it/70ffb52d079109dca5664cce6f317373782/...   bad   \n",
       "1  www.dghjdgf.com/paypal.co.uk/cycgi-bin/webscrc...   bad   \n",
       "2  serviciosbys.com/paypal.cgi.bin.get-into.herf....   bad   \n",
       "3  mail.printakid.com/www.online.americanexpress....   bad   \n",
       "4  thewhiskeydregs.com/wp-content/themes/widescre...   bad   \n",
       "\n",
       "                                      text_tokenized  \\\n",
       "0  [nobell, it, ffb, d, dca, cce, f, login, SkyPe...   \n",
       "1  [www, dghjdgf, com, paypal, co, uk, cycgi, bin...   \n",
       "2  [serviciosbys, com, paypal, cgi, bin, get, int...   \n",
       "3  [mail, printakid, com, www, online, americanex...   \n",
       "4  [thewhiskeydregs, com, wp, content, themes, wi...   \n",
       "\n",
       "                                        text_stemmed  \\\n",
       "0  [nobel, it, ffb, d, dca, cce, f, login, skype,...   \n",
       "1  [www, dghjdgf, com, paypal, co, uk, cycgi, bin...   \n",
       "2  [serviciosbi, com, paypal, cgi, bin, get, into...   \n",
       "3  [mail, printakid, com, www, onlin, americanexp...   \n",
       "4  [thewhiskeydreg, com, wp, content, theme, wide...   \n",
       "\n",
       "                                           text_sent  \n",
       "0  nobel it ffb d dca cce f login skype com en cg...  \n",
       "1  www dghjdgf com paypal co uk cycgi bin webscrc...  \n",
       "2  serviciosbi com paypal cgi bin get into herf s...  \n",
       "3  mail printakid com www onlin americanexpress c...  \n",
       "4  thewhiskeydreg com wp content theme widescreen...  "
      ]
     },
     "execution_count": 17,
     "metadata": {},
     "output_type": "execute_result"
    }
   ],
   "source": [
    "bad_sites.head()"
   ]
  },
  {
   "cell_type": "code",
   "execution_count": 18,
   "metadata": {
    "execution": {
     "iopub.execute_input": "2021-03-04T05:35:40.781621Z",
     "iopub.status.busy": "2021-03-04T05:35:40.780797Z",
     "iopub.status.idle": "2021-03-04T05:35:40.787329Z",
     "shell.execute_reply": "2021-03-04T05:35:40.786766Z"
    },
    "papermill": {
     "duration": 0.06939,
     "end_time": "2021-03-04T05:35:40.787463",
     "exception": false,
     "start_time": "2021-03-04T05:35:40.718073",
     "status": "completed"
    },
    "tags": []
   },
   "outputs": [
    {
     "data": {
      "text/html": [
       "<div>\n",
       "<style scoped>\n",
       "    .dataframe tbody tr th:only-of-type {\n",
       "        vertical-align: middle;\n",
       "    }\n",
       "\n",
       "    .dataframe tbody tr th {\n",
       "        vertical-align: top;\n",
       "    }\n",
       "\n",
       "    .dataframe thead th {\n",
       "        text-align: right;\n",
       "    }\n",
       "</style>\n",
       "<table border=\"1\" class=\"dataframe\">\n",
       "  <thead>\n",
       "    <tr style=\"text-align: right;\">\n",
       "      <th></th>\n",
       "      <th>URL</th>\n",
       "      <th>Label</th>\n",
       "      <th>text_tokenized</th>\n",
       "      <th>text_stemmed</th>\n",
       "      <th>text_sent</th>\n",
       "    </tr>\n",
       "  </thead>\n",
       "  <tbody>\n",
       "    <tr>\n",
       "      <th>18231</th>\n",
       "      <td>esxcc.com/js/index.htm?us.battle.net/noghn/en/...</td>\n",
       "      <td>good</td>\n",
       "      <td>[esxcc, com, js, index, htm, us, battle, net, ...</td>\n",
       "      <td>[esxcc, com, js, index, htm, us, battl, net, n...</td>\n",
       "      <td>esxcc com js index htm us battl net noghn en r...</td>\n",
       "    </tr>\n",
       "    <tr>\n",
       "      <th>18232</th>\n",
       "      <td>www\u000eeira¯&amp;nvinip¿ncH¯wVö%ÆåyDaHðû/ÏyEùu\u0003Ë\\nÓ\u00176...</td>\n",
       "      <td>good</td>\n",
       "      <td>[www, eira, nvinip, ncH, wV, yDaH, yE, u, rT, ...</td>\n",
       "      <td>[www, eira, nvinip, nch, wv, ydah, ye, u, rt, ...</td>\n",
       "      <td>www eira nvinip nch wv ydah ye u rt u g m i xz...</td>\n",
       "    </tr>\n",
       "    <tr>\n",
       "      <th>18233</th>\n",
       "      <td>'www.institutocgr.coo/web/media/syqvem/dk-\u000fóij...</td>\n",
       "      <td>good</td>\n",
       "      <td>[www, institutocgr, coo, web, media, syqvem, d...</td>\n",
       "      <td>[www, institutocgr, coo, web, media, syqvem, d...</td>\n",
       "      <td>www institutocgr coo web media syqvem dk ij r ...</td>\n",
       "    </tr>\n",
       "    <tr>\n",
       "      <th>18234</th>\n",
       "      <td>\u0011\u0018Yìê\f",
       "koãÕ»Î§DéÎ\u0002l½ñ¡ââqtò¸/à; Í</td>\n",
       "      <td>good</td>\n",
       "      <td>[Y, ko, D, l, qt]</td>\n",
       "      <td>[y, ko, d, l, qt]</td>\n",
       "      <td>y ko d l qt</td>\n",
       "    </tr>\n",
       "    <tr>\n",
       "      <th>18236</th>\n",
       "      <td>ruta89fm.com/images/AS@Vies/1i75cf7b16vc&lt;F\u0015d16...</td>\n",
       "      <td>good</td>\n",
       "      <td>[ruta, fm, com, images, AS, Vies, i, cf, b, vc...</td>\n",
       "      <td>[ruta, fm, com, imag, as, vie, i, cf, b, vc, f...</td>\n",
       "      <td>ruta fm com imag as vie i cf b vc f d b g sd v...</td>\n",
       "    </tr>\n",
       "  </tbody>\n",
       "</table>\n",
       "</div>"
      ],
      "text/plain": [
       "                                                     URL Label  \\\n",
       "18231  esxcc.com/js/index.htm?us.battle.net/noghn/en/...  good   \n",
       "18232  www\u000eeira¯&nvinip¿ncH¯wVö%ÆåyDaHðû/ÏyEùu\u0003Ë\\nÓ\u00176...  good   \n",
       "18233  'www.institutocgr.coo/web/media/syqvem/dk-\u000fóij...  good   \n",
       "18234                  \u0011\u0018Yìê\n",
       "koãÕ»Î§DéÎ\u0002l½ñ¡ââqtò¸/à; Í  good   \n",
       "18236  ruta89fm.com/images/AS@Vies/1i75cf7b16vc<F\u0015d16...  good   \n",
       "\n",
       "                                          text_tokenized  \\\n",
       "18231  [esxcc, com, js, index, htm, us, battle, net, ...   \n",
       "18232  [www, eira, nvinip, ncH, wV, yDaH, yE, u, rT, ...   \n",
       "18233  [www, institutocgr, coo, web, media, syqvem, d...   \n",
       "18234                                  [Y, ko, D, l, qt]   \n",
       "18236  [ruta, fm, com, images, AS, Vies, i, cf, b, vc...   \n",
       "\n",
       "                                            text_stemmed  \\\n",
       "18231  [esxcc, com, js, index, htm, us, battl, net, n...   \n",
       "18232  [www, eira, nvinip, nch, wv, ydah, ye, u, rt, ...   \n",
       "18233  [www, institutocgr, coo, web, media, syqvem, d...   \n",
       "18234                                  [y, ko, d, l, qt]   \n",
       "18236  [ruta, fm, com, imag, as, vie, i, cf, b, vc, f...   \n",
       "\n",
       "                                               text_sent  \n",
       "18231  esxcc com js index htm us battl net noghn en r...  \n",
       "18232  www eira nvinip nch wv ydah ye u rt u g m i xz...  \n",
       "18233  www institutocgr coo web media syqvem dk ij r ...  \n",
       "18234                                        y ko d l qt  \n",
       "18236  ruta fm com imag as vie i cf b vc f d b g sd v...  "
      ]
     },
     "execution_count": 18,
     "metadata": {},
     "output_type": "execute_result"
    }
   ],
   "source": [
    "good_sites.head()"
   ]
  },
  {
   "cell_type": "code",
   "execution_count": 19,
   "metadata": {
    "execution": {
     "iopub.execute_input": "2021-03-04T05:35:40.886375Z",
     "iopub.status.busy": "2021-03-04T05:35:40.879451Z",
     "iopub.status.idle": "2021-03-04T05:35:40.891494Z",
     "shell.execute_reply": "2021-03-04T05:35:40.890958Z"
    },
    "papermill": {
     "duration": 0.06277,
     "end_time": "2021-03-04T05:35:40.891619",
     "exception": false,
     "start_time": "2021-03-04T05:35:40.828849",
     "status": "completed"
    },
    "tags": []
   },
   "outputs": [
    {
     "data": {
      "text/html": [
       "<div>\n",
       "<style scoped>\n",
       "    .dataframe tbody tr th:only-of-type {\n",
       "        vertical-align: middle;\n",
       "    }\n",
       "\n",
       "    .dataframe tbody tr th {\n",
       "        vertical-align: top;\n",
       "    }\n",
       "\n",
       "    .dataframe thead th {\n",
       "        text-align: right;\n",
       "    }\n",
       "</style>\n",
       "<table border=\"1\" class=\"dataframe\">\n",
       "  <thead>\n",
       "    <tr style=\"text-align: right;\">\n",
       "      <th></th>\n",
       "      <th>URL</th>\n",
       "      <th>Label</th>\n",
       "      <th>text_tokenized</th>\n",
       "      <th>text_stemmed</th>\n",
       "      <th>text_sent</th>\n",
       "    </tr>\n",
       "  </thead>\n",
       "  <tbody>\n",
       "    <tr>\n",
       "      <th>0</th>\n",
       "      <td>nobell.it/70ffb52d079109dca5664cce6f317373782/...</td>\n",
       "      <td>bad</td>\n",
       "      <td>[nobell, it, ffb, d, dca, cce, f, login, SkyPe...</td>\n",
       "      <td>[nobel, it, ffb, d, dca, cce, f, login, skype,...</td>\n",
       "      <td>nobel it ffb d dca cce f login skype com en cg...</td>\n",
       "    </tr>\n",
       "    <tr>\n",
       "      <th>1</th>\n",
       "      <td>www.dghjdgf.com/paypal.co.uk/cycgi-bin/webscrc...</td>\n",
       "      <td>bad</td>\n",
       "      <td>[www, dghjdgf, com, paypal, co, uk, cycgi, bin...</td>\n",
       "      <td>[www, dghjdgf, com, paypal, co, uk, cycgi, bin...</td>\n",
       "      <td>www dghjdgf com paypal co uk cycgi bin webscrc...</td>\n",
       "    </tr>\n",
       "    <tr>\n",
       "      <th>2</th>\n",
       "      <td>serviciosbys.com/paypal.cgi.bin.get-into.herf....</td>\n",
       "      <td>bad</td>\n",
       "      <td>[serviciosbys, com, paypal, cgi, bin, get, int...</td>\n",
       "      <td>[serviciosbi, com, paypal, cgi, bin, get, into...</td>\n",
       "      <td>serviciosbi com paypal cgi bin get into herf s...</td>\n",
       "    </tr>\n",
       "    <tr>\n",
       "      <th>3</th>\n",
       "      <td>mail.printakid.com/www.online.americanexpress....</td>\n",
       "      <td>bad</td>\n",
       "      <td>[mail, printakid, com, www, online, americanex...</td>\n",
       "      <td>[mail, printakid, com, www, onlin, americanexp...</td>\n",
       "      <td>mail printakid com www onlin americanexpress c...</td>\n",
       "    </tr>\n",
       "    <tr>\n",
       "      <th>4</th>\n",
       "      <td>thewhiskeydregs.com/wp-content/themes/widescre...</td>\n",
       "      <td>bad</td>\n",
       "      <td>[thewhiskeydregs, com, wp, content, themes, wi...</td>\n",
       "      <td>[thewhiskeydreg, com, wp, content, theme, wide...</td>\n",
       "      <td>thewhiskeydreg com wp content theme widescreen...</td>\n",
       "    </tr>\n",
       "  </tbody>\n",
       "</table>\n",
       "</div>"
      ],
      "text/plain": [
       "                                                 URL Label  \\\n",
       "0  nobell.it/70ffb52d079109dca5664cce6f317373782/...   bad   \n",
       "1  www.dghjdgf.com/paypal.co.uk/cycgi-bin/webscrc...   bad   \n",
       "2  serviciosbys.com/paypal.cgi.bin.get-into.herf....   bad   \n",
       "3  mail.printakid.com/www.online.americanexpress....   bad   \n",
       "4  thewhiskeydregs.com/wp-content/themes/widescre...   bad   \n",
       "\n",
       "                                      text_tokenized  \\\n",
       "0  [nobell, it, ffb, d, dca, cce, f, login, SkyPe...   \n",
       "1  [www, dghjdgf, com, paypal, co, uk, cycgi, bin...   \n",
       "2  [serviciosbys, com, paypal, cgi, bin, get, int...   \n",
       "3  [mail, printakid, com, www, online, americanex...   \n",
       "4  [thewhiskeydregs, com, wp, content, themes, wi...   \n",
       "\n",
       "                                        text_stemmed  \\\n",
       "0  [nobel, it, ffb, d, dca, cce, f, login, skype,...   \n",
       "1  [www, dghjdgf, com, paypal, co, uk, cycgi, bin...   \n",
       "2  [serviciosbi, com, paypal, cgi, bin, get, into...   \n",
       "3  [mail, printakid, com, www, onlin, americanexp...   \n",
       "4  [thewhiskeydreg, com, wp, content, theme, wide...   \n",
       "\n",
       "                                           text_sent  \n",
       "0  nobel it ffb d dca cce f login skype com en cg...  \n",
       "1  www dghjdgf com paypal co uk cycgi bin webscrc...  \n",
       "2  serviciosbi com paypal cgi bin get into herf s...  \n",
       "3  mail printakid com www onlin americanexpress c...  \n",
       "4  thewhiskeydreg com wp content theme widescreen...  "
      ]
     },
     "execution_count": 19,
     "metadata": {},
     "output_type": "execute_result"
    }
   ],
   "source": [
    "df.head()"
   ]
  },
  {
   "cell_type": "markdown",
   "metadata": {
    "papermill": {
     "duration": 0.041842,
     "end_time": "2021-03-04T05:35:40.975413",
     "exception": false,
     "start_time": "2021-03-04T05:35:40.933571",
     "status": "completed"
    },
    "tags": []
   },
   "source": [
    "## Creating Model\n",
    "### CountVectorizer- Convert a collection of text documents to a matrix of token counts"
   ]
  },
  {
   "cell_type": "code",
   "execution_count": 20,
   "metadata": {
    "execution": {
     "iopub.execute_input": "2021-03-04T05:35:41.064582Z",
     "iopub.status.busy": "2021-03-04T05:35:41.063980Z",
     "iopub.status.idle": "2021-03-04T05:35:41.067398Z",
     "shell.execute_reply": "2021-03-04T05:35:41.066875Z"
    },
    "papermill": {
     "duration": 0.050031,
     "end_time": "2021-03-04T05:35:41.067524",
     "exception": false,
     "start_time": "2021-03-04T05:35:41.017493",
     "status": "completed"
    },
    "tags": []
   },
   "outputs": [],
   "source": [
    "cv = CountVectorizer()"
   ]
  },
  {
   "cell_type": "code",
   "execution_count": 21,
   "metadata": {
    "execution": {
     "iopub.execute_input": "2021-03-04T05:35:41.165508Z",
     "iopub.status.busy": "2021-03-04T05:35:41.160383Z",
     "iopub.status.idle": "2021-03-04T05:35:47.352145Z",
     "shell.execute_reply": "2021-03-04T05:35:47.351483Z"
    },
    "papermill": {
     "duration": 6.242328,
     "end_time": "2021-03-04T05:35:47.352311",
     "exception": false,
     "start_time": "2021-03-04T05:35:41.109983",
     "status": "completed"
    },
    "tags": []
   },
   "outputs": [],
   "source": [
    "feature = cv.fit_transform(df.text_sent) #transform all text which we tokenize and stemed"
   ]
  },
  {
   "cell_type": "code",
   "execution_count": 22,
   "metadata": {
    "execution": {
     "iopub.execute_input": "2021-03-04T05:35:47.442929Z",
     "iopub.status.busy": "2021-03-04T05:35:47.442103Z",
     "iopub.status.idle": "2021-03-04T05:35:47.448506Z",
     "shell.execute_reply": "2021-03-04T05:35:47.447716Z"
    },
    "papermill": {
     "duration": 0.053715,
     "end_time": "2021-03-04T05:35:47.448653",
     "exception": false,
     "start_time": "2021-03-04T05:35:47.394938",
     "status": "completed"
    },
    "tags": []
   },
   "outputs": [
    {
     "data": {
      "text/plain": [
       "array([[0, 0, 0, ..., 0, 0, 0],\n",
       "       [0, 0, 0, ..., 0, 0, 0],\n",
       "       [0, 0, 0, ..., 0, 0, 0],\n",
       "       [0, 0, 0, ..., 0, 0, 0],\n",
       "       [0, 0, 0, ..., 0, 0, 0]], dtype=int64)"
      ]
     },
     "execution_count": 22,
     "metadata": {},
     "output_type": "execute_result"
    }
   ],
   "source": [
    "feature[:5].toarray() # convert sparse matrix into array to print transformed features"
   ]
  },
  {
   "cell_type": "code",
   "execution_count": 23,
   "metadata": {},
   "outputs": [],
   "source": [
    "#from sklearn.preprocessing import OneHotEncoder\n",
    "#encoder = OneHotEncoder()\n",
    "#feature.todense()"
   ]
  },
  {
   "cell_type": "code",
   "execution_count": 24,
   "metadata": {},
   "outputs": [],
   "source": [
    "#feature = encoder.fit_transform(feature)"
   ]
  },
  {
   "cell_type": "code",
   "execution_count": 25,
   "metadata": {
    "execution": {
     "iopub.execute_input": "2021-03-04T05:35:47.583195Z",
     "iopub.status.busy": "2021-03-04T05:35:47.582456Z",
     "iopub.status.idle": "2021-03-04T05:35:47.585368Z",
     "shell.execute_reply": "2021-03-04T05:35:47.584603Z"
    },
    "papermill": {
     "duration": 0.07209,
     "end_time": "2021-03-04T05:35:47.585508",
     "exception": false,
     "start_time": "2021-03-04T05:35:47.513418",
     "status": "completed"
    },
    "tags": []
   },
   "outputs": [],
   "source": [
    "from sklearn.model_selection import train_test_split"
   ]
  },
  {
   "cell_type": "code",
   "execution_count": 26,
   "metadata": {
    "execution": {
     "iopub.execute_input": "2021-03-04T05:35:47.721894Z",
     "iopub.status.busy": "2021-03-04T05:35:47.720790Z",
     "iopub.status.idle": "2021-03-04T05:35:47.833427Z",
     "shell.execute_reply": "2021-03-04T05:35:47.834051Z"
    },
    "papermill": {
     "duration": 0.183647,
     "end_time": "2021-03-04T05:35:47.834319",
     "exception": false,
     "start_time": "2021-03-04T05:35:47.650672",
     "status": "completed"
    },
    "tags": []
   },
   "outputs": [],
   "source": [
    "trainX, testX, trainY, testY = train_test_split(feature, df.Label)"
   ]
  },
  {
   "cell_type": "markdown",
   "metadata": {
    "papermill": {
     "duration": 0.066179,
     "end_time": "2021-03-04T05:35:47.967085",
     "exception": false,
     "start_time": "2021-03-04T05:35:47.900906",
     "status": "completed"
    },
    "tags": []
   },
   "source": [
    "### LogisticRegression\n",
    "#### Logistic Regression is a Machine Learning classification algorithm that is used to predict the probability of a categorical dependent variable."
   ]
  },
  {
   "cell_type": "code",
   "execution_count": 27,
   "metadata": {
    "execution": {
     "iopub.execute_input": "2021-03-04T05:35:48.104576Z",
     "iopub.status.busy": "2021-03-04T05:35:48.103614Z",
     "iopub.status.idle": "2021-03-04T05:35:48.108369Z",
     "shell.execute_reply": "2021-03-04T05:35:48.107480Z"
    },
    "papermill": {
     "duration": 0.074705,
     "end_time": "2021-03-04T05:35:48.108526",
     "exception": false,
     "start_time": "2021-03-04T05:35:48.033821",
     "status": "completed"
    },
    "tags": []
   },
   "outputs": [],
   "source": [
    "from sklearn.linear_model import LogisticRegression\n"
   ]
  },
  {
   "cell_type": "code",
   "execution_count": 28,
   "metadata": {
    "execution": {
     "iopub.execute_input": "2021-03-04T05:35:48.202459Z",
     "iopub.status.busy": "2021-03-04T05:35:48.201792Z",
     "iopub.status.idle": "2021-03-04T05:36:01.993701Z",
     "shell.execute_reply": "2021-03-04T05:36:01.994340Z"
    },
    "papermill": {
     "duration": 13.84091,
     "end_time": "2021-03-04T05:36:01.994540",
     "exception": false,
     "start_time": "2021-03-04T05:35:48.153630",
     "status": "completed"
    },
    "tags": []
   },
   "outputs": [
    {
     "data": {
      "text/plain": [
       "LogisticRegression()"
      ]
     },
     "execution_count": 28,
     "metadata": {},
     "output_type": "execute_result"
    }
   ],
   "source": [
    "lr = LogisticRegression()\n",
    "lr.fit(trainX,trainY)"
   ]
  },
  {
   "cell_type": "code",
   "execution_count": 29,
   "metadata": {
    "execution": {
     "iopub.execute_input": "2021-03-04T05:36:02.103271Z",
     "iopub.status.busy": "2021-03-04T05:36:02.102476Z",
     "iopub.status.idle": "2021-03-04T05:36:02.465325Z",
     "shell.execute_reply": "2021-03-04T05:36:02.464560Z"
    },
    "papermill": {
     "duration": 0.412614,
     "end_time": "2021-03-04T05:36:02.465504",
     "exception": false,
     "start_time": "2021-03-04T05:36:02.052890",
     "status": "completed"
    },
    "tags": []
   },
   "outputs": [
    {
     "data": {
      "text/plain": [
       "0.9670744138634046"
      ]
     },
     "execution_count": 29,
     "metadata": {},
     "output_type": "execute_result"
    }
   ],
   "source": [
    "lr.score(testX,testY)"
   ]
  },
  {
   "cell_type": "markdown",
   "metadata": {
    "papermill": {
     "duration": 0.067282,
     "end_time": "2021-03-04T05:36:02.600964",
     "exception": false,
     "start_time": "2021-03-04T05:36:02.533682",
     "status": "completed"
    },
    "tags": []
   },
   "source": [
    "#### Logistic Regression provide 96% accuracy,Now we will store the score in the dictionary so that we can find which model performs the best.\n"
   ]
  },
  {
   "cell_type": "code",
   "execution_count": 30,
   "metadata": {
    "execution": {
     "iopub.execute_input": "2021-03-04T05:36:02.741392Z",
     "iopub.status.busy": "2021-03-04T05:36:02.740747Z",
     "iopub.status.idle": "2021-03-04T05:36:03.104528Z",
     "shell.execute_reply": "2021-03-04T05:36:03.104002Z"
    },
    "papermill": {
     "duration": 0.435908,
     "end_time": "2021-03-04T05:36:03.104656",
     "exception": false,
     "start_time": "2021-03-04T05:36:02.668748",
     "status": "completed"
    },
    "tags": []
   },
   "outputs": [],
   "source": [
    "Scores_ml = {}\n",
    "Scores_ml['Logistic Regression'] = np.round(lr.score(testX,testY),2)"
   ]
  },
  {
   "cell_type": "code",
   "execution_count": 32,
   "metadata": {
    "execution": {
     "iopub.execute_input": "2021-03-04T05:36:03.200638Z",
     "iopub.status.busy": "2021-03-04T05:36:03.199951Z",
     "iopub.status.idle": "2021-03-04T05:36:12.169299Z",
     "shell.execute_reply": "2021-03-04T05:36:12.168724Z"
    },
    "papermill": {
     "duration": 9.019989,
     "end_time": "2021-03-04T05:36:12.169444",
     "exception": false,
     "start_time": "2021-03-04T05:36:03.149455",
     "status": "completed"
    },
    "tags": []
   },
   "outputs": [
    {
     "name": "stdout",
     "output_type": "stream",
     "text": [
      "Training Accuracy : 0.9820298676996337\n",
      "Testing Accuracy : 0.9670744138634046\n"
     ]
    }
   ],
   "source": [
    "# creating confusing matrix\n",
    "print('Training Accuracy :',lr.score(trainX,trainY))\n",
    "print('Testing Accuracy :',lr.score(testX,testY))\n",
    "#con_mat = pd.DataFrame(confusion_matrix(lr.predict(testX), testY),\n",
    "#            columns = ['Predicted:Bad', 'Predicted:Good'],\n",
    "#            index = ['Actual:Bad', 'Actual:Good'])\n",
    "#\n",
    "#\n",
    "#print('\\nCLASSIFICATION REPORT\\n')\n",
    "#print(classification_report(lr.predict(testX), testY,\n",
    "#                            target_names =['Bad','Good']))\n",
    "\n",
    "#print('\\nCONFUSION MATRIX')\n",
    "#plt.figure(figsize= (6,4))\n",
    "#sns.heatmap(con_mat, annot = True,fmt='d',cmap=\"YlGnBu\")"
   ]
  },
  {
   "cell_type": "markdown",
   "metadata": {
    "papermill": {
     "duration": 0.048329,
     "end_time": "2021-03-04T05:36:12.265824",
     "exception": false,
     "start_time": "2021-03-04T05:36:12.217495",
     "status": "completed"
    },
    "tags": []
   },
   "source": [
    "## MultinomialNB\n",
    "#### The multinomial Naive Bayes classifier is suitable for classification with discrete features (e.g., word counts for text classification). The multinomial distribution normally requires integer feature counts. However, in practice, fractional counts such as tf-idf may also work."
   ]
  },
  {
   "cell_type": "code",
   "execution_count": 33,
   "metadata": {
    "execution": {
     "iopub.execute_input": "2021-03-04T05:36:12.367914Z",
     "iopub.status.busy": "2021-03-04T05:36:12.367086Z",
     "iopub.status.idle": "2021-03-04T05:36:12.374158Z",
     "shell.execute_reply": "2021-03-04T05:36:12.373533Z"
    },
    "papermill": {
     "duration": 0.060195,
     "end_time": "2021-03-04T05:36:12.374338",
     "exception": false,
     "start_time": "2021-03-04T05:36:12.314143",
     "status": "completed"
    },
    "tags": []
   },
   "outputs": [],
   "source": [
    "from sklearn.naive_bayes import MultinomialNB \n"
   ]
  },
  {
   "cell_type": "code",
   "execution_count": 34,
   "metadata": {
    "execution": {
     "iopub.execute_input": "2021-03-04T05:36:12.475062Z",
     "iopub.status.busy": "2021-03-04T05:36:12.474286Z",
     "iopub.status.idle": "2021-03-04T05:36:12.477253Z",
     "shell.execute_reply": "2021-03-04T05:36:12.476652Z"
    },
    "papermill": {
     "duration": 0.054608,
     "end_time": "2021-03-04T05:36:12.477375",
     "exception": false,
     "start_time": "2021-03-04T05:36:12.422767",
     "status": "completed"
    },
    "tags": []
   },
   "outputs": [],
   "source": [
    "# create mnb object\n",
    "mnb = MultinomialNB()"
   ]
  },
  {
   "cell_type": "code",
   "execution_count": 35,
   "metadata": {
    "execution": {
     "iopub.execute_input": "2021-03-04T05:36:12.583002Z",
     "iopub.status.busy": "2021-03-04T05:36:12.574919Z",
     "iopub.status.idle": "2021-03-04T05:36:14.348970Z",
     "shell.execute_reply": "2021-03-04T05:36:14.348439Z"
    },
    "papermill": {
     "duration": 1.823446,
     "end_time": "2021-03-04T05:36:14.349107",
     "exception": false,
     "start_time": "2021-03-04T05:36:12.525661",
     "status": "completed"
    },
    "tags": []
   },
   "outputs": [
    {
     "data": {
      "text/plain": [
       "MultinomialNB()"
      ]
     },
     "execution_count": 35,
     "metadata": {},
     "output_type": "execute_result"
    }
   ],
   "source": [
    "mnb.fit(trainX,trainY)"
   ]
  },
  {
   "cell_type": "code",
   "execution_count": 36,
   "metadata": {
    "execution": {
     "iopub.execute_input": "2021-03-04T05:36:14.450783Z",
     "iopub.status.busy": "2021-03-04T05:36:14.450156Z",
     "iopub.status.idle": "2021-03-04T05:36:14.814032Z",
     "shell.execute_reply": "2021-03-04T05:36:14.814583Z"
    },
    "papermill": {
     "duration": 0.41774,
     "end_time": "2021-03-04T05:36:14.814751",
     "exception": false,
     "start_time": "2021-03-04T05:36:14.397011",
     "status": "completed"
    },
    "tags": []
   },
   "outputs": [
    {
     "data": {
      "text/plain": [
       "0.9581913499344692"
      ]
     },
     "execution_count": 36,
     "metadata": {},
     "output_type": "execute_result"
    }
   ],
   "source": [
    "mnb.score(testX,testY)"
   ]
  },
  {
   "cell_type": "markdown",
   "metadata": {
    "papermill": {
     "duration": 0.051464,
     "end_time": "2021-03-04T05:36:14.914666",
     "exception": false,
     "start_time": "2021-03-04T05:36:14.863202",
     "status": "completed"
    },
    "tags": []
   },
   "source": [
    "#### MultinomialNB provide 95% accuracy,so we can store the score in the dictionary"
   ]
  },
  {
   "cell_type": "code",
   "execution_count": 37,
   "metadata": {
    "execution": {
     "iopub.execute_input": "2021-03-04T05:36:15.017933Z",
     "iopub.status.busy": "2021-03-04T05:36:15.017363Z",
     "iopub.status.idle": "2021-03-04T05:36:15.382898Z",
     "shell.execute_reply": "2021-03-04T05:36:15.382088Z"
    },
    "papermill": {
     "duration": 0.419089,
     "end_time": "2021-03-04T05:36:15.383055",
     "exception": false,
     "start_time": "2021-03-04T05:36:14.963966",
     "status": "completed"
    },
    "tags": []
   },
   "outputs": [],
   "source": [
    "Scores_ml['MultinomialNB'] = np.round(mnb.score(testX,testY),2)"
   ]
  },
  {
   "cell_type": "code",
   "execution_count": 39,
   "metadata": {
    "execution": {
     "iopub.execute_input": "2021-03-04T05:36:15.487612Z",
     "iopub.status.busy": "2021-03-04T05:36:15.486794Z",
     "iopub.status.idle": "2021-03-04T05:36:23.137127Z",
     "shell.execute_reply": "2021-03-04T05:36:23.137633Z"
    },
    "papermill": {
     "duration": 7.70595,
     "end_time": "2021-03-04T05:36:23.137821",
     "exception": false,
     "start_time": "2021-03-04T05:36:15.431871",
     "status": "completed"
    },
    "tags": []
   },
   "outputs": [
    {
     "name": "stdout",
     "output_type": "stream",
     "text": [
      "Training Accuracy : 0.9740520415419752\n",
      "Testing Accuracy : 0.9581913499344692\n"
     ]
    }
   ],
   "source": [
    "print('Training Accuracy :',mnb.score(trainX,trainY))\n",
    "print('Testing Accuracy :',mnb.score(testX,testY))\n",
    "#con_mat = pd.DataFrame(confusion_matrix(mnb.predict(testX), testY),\n",
    "#            columns = ['Predicted:Bad', 'Predicted:Good'],\n",
    "#            index = ['Actual:Bad', 'Actual:Good'])\n",
    "\n",
    "\n",
    "#print('\\nCLASSIFICATION REPORT\\n')\n",
    "#print(classification_report(mnb.predict(testX), testY,\n",
    "#                            target_names =['Bad','Good']))\n",
    "\n",
    "#print('\\nCONFUSION MATRIX')\n",
    "#plt.figure(figsize= (6,4))\n",
    "#sns.heatmap(con_mat, annot = True,fmt='d',cmap=\"YlGnBu\")"
   ]
  },
  {
   "cell_type": "code",
   "execution_count": 40,
   "metadata": {
    "execution": {
     "iopub.execute_input": "2021-03-04T05:36:23.248522Z",
     "iopub.status.busy": "2021-03-04T05:36:23.247392Z",
     "iopub.status.idle": "2021-03-04T05:36:23.380959Z",
     "shell.execute_reply": "2021-03-04T05:36:23.380457Z"
    },
    "papermill": {
     "duration": 0.191339,
     "end_time": "2021-03-04T05:36:23.381097",
     "exception": false,
     "start_time": "2021-03-04T05:36:23.189758",
     "status": "completed"
    },
    "tags": []
   },
   "outputs": [
    {
     "data": {
      "text/plain": [
       "<AxesSubplot:ylabel='Accuracy'>"
      ]
     },
     "execution_count": 40,
     "metadata": {},
     "output_type": "execute_result"
    },
    {
     "data": {
      "image/png": "[encoded data removed]",
      "text/plain": [
       "<Figure size 640x480 with 1 Axes>"
      ]
     },
     "metadata": {},
     "output_type": "display_data"
    }
   ],
   "source": [
    "# Lets compare the two models and find out which one is best.\n",
    "acc = pd.DataFrame.from_dict(Scores_ml,orient = 'index',columns=['Accuracy'])\n",
    "sns.set_style('darkgrid')\n",
    "sns.barplot(acc.index,acc.Accuracy)"
   ]
  },
  {
   "cell_type": "markdown",
   "metadata": {
    "papermill": {
     "duration": 0.051975,
     "end_time": "2021-03-04T05:36:23.486865",
     "exception": false,
     "start_time": "2021-03-04T05:36:23.434890",
     "status": "completed"
    },
    "tags": []
   },
   "source": [
    "#### So, Logistic Regression is the best fit model, Now lets make sklearn pipeline using Logistic Regression"
   ]
  },
  {
   "cell_type": "code",
   "execution_count": 41,
   "metadata": {
    "execution": {
     "iopub.execute_input": "2021-03-04T05:36:23.598585Z",
     "iopub.status.busy": "2021-03-04T05:36:23.597960Z",
     "iopub.status.idle": "2021-03-04T05:36:23.601112Z",
     "shell.execute_reply": "2021-03-04T05:36:23.600522Z"
    },
    "papermill": {
     "duration": 0.061544,
     "end_time": "2021-03-04T05:36:23.601269",
     "exception": false,
     "start_time": "2021-03-04T05:36:23.539725",
     "status": "completed"
    },
    "tags": []
   },
   "outputs": [],
   "source": [
    "pipeline_ls = make_pipeline(CountVectorizer(tokenizer = RegexpTokenizer(r'[A-Za-z]+').tokenize,stop_words='english'), LogisticRegression())"
   ]
  },
  {
   "cell_type": "code",
   "execution_count": 42,
   "metadata": {
    "execution": {
     "iopub.execute_input": "2021-03-04T05:36:23.726820Z",
     "iopub.status.busy": "2021-03-04T05:36:23.725851Z",
     "iopub.status.idle": "2021-03-04T05:36:23.846265Z",
     "shell.execute_reply": "2021-03-04T05:36:23.845697Z"
    },
    "papermill": {
     "duration": 0.191939,
     "end_time": "2021-03-04T05:36:23.846402",
     "exception": false,
     "start_time": "2021-03-04T05:36:23.654463",
     "status": "completed"
    },
    "tags": []
   },
   "outputs": [],
   "source": [
    "trainX, testX, trainY, testY = train_test_split(df.URL, df.Label)"
   ]
  },
  {
   "cell_type": "code",
   "execution_count": 43,
   "metadata": {
    "execution": {
     "iopub.execute_input": "2021-03-04T05:36:23.969454Z",
     "iopub.status.busy": "2021-03-04T05:36:23.964382Z",
     "iopub.status.idle": "2021-03-04T05:36:42.200618Z",
     "shell.execute_reply": "2021-03-04T05:36:42.201277Z"
    },
    "papermill": {
     "duration": 18.302302,
     "end_time": "2021-03-04T05:36:42.201470",
     "exception": false,
     "start_time": "2021-03-04T05:36:23.899168",
     "status": "completed"
    },
    "tags": []
   },
   "outputs": [
    {
     "data": {
      "text/plain": [
       "Pipeline(steps=[('countvectorizer',\n",
       "                 CountVectorizer(stop_words='english',\n",
       "                                 tokenizer=<bound method RegexpTokenizer.tokenize of RegexpTokenizer(pattern='[A-Za-z]+', gaps=False, discard_empty=True, flags=re.UNICODE|re.MULTILINE|re.DOTALL)>)),\n",
       "                ('logisticregression', LogisticRegression())])"
      ]
     },
     "execution_count": 43,
     "metadata": {},
     "output_type": "execute_result"
    }
   ],
   "source": [
    "pipeline_ls.fit(trainX,trainY)"
   ]
  },
  {
   "cell_type": "code",
   "execution_count": 44,
   "metadata": {
    "execution": {
     "iopub.execute_input": "2021-03-04T05:36:42.346944Z",
     "iopub.status.busy": "2021-03-04T05:36:42.341789Z",
     "iopub.status.idle": "2021-03-04T05:36:44.350579Z",
     "shell.execute_reply": "2021-03-04T05:36:44.349942Z"
    },
    "papermill": {
     "duration": 2.074732,
     "end_time": "2021-03-04T05:36:44.350713",
     "exception": false,
     "start_time": "2021-03-04T05:36:42.275981",
     "status": "completed"
    },
    "tags": []
   },
   "outputs": [
    {
     "data": {
      "text/plain": [
       "0.9702708606378331"
      ]
     },
     "execution_count": 44,
     "metadata": {},
     "output_type": "execute_result"
    }
   ],
   "source": [
    "pipeline_ls.score(testX,testY)"
   ]
  },
  {
   "cell_type": "code",
   "execution_count": 45,
   "metadata": {
    "execution": {
     "iopub.execute_input": "2021-03-04T05:36:44.476881Z",
     "iopub.status.busy": "2021-03-04T05:36:44.475971Z",
     "iopub.status.idle": "2021-03-04T05:37:03.776219Z",
     "shell.execute_reply": "2021-03-04T05:37:03.775425Z"
    },
    "papermill": {
     "duration": 19.369895,
     "end_time": "2021-03-04T05:37:03.776413",
     "exception": false,
     "start_time": "2021-03-04T05:36:44.406518",
     "status": "completed"
    },
    "tags": []
   },
   "outputs": [
    {
     "name": "stdout",
     "output_type": "stream",
     "text": [
      "Training Accuracy : 0.9868306404832811\n",
      "Testing Accuracy : 0.9702708606378331\n"
     ]
    }
   ],
   "source": [
    "print('Training Accuracy :',pipeline_ls.score(trainX,trainY))\n",
    "print('Testing Accuracy :',pipeline_ls.score(testX,testY))\n",
    "#con_mat = pd.DataFrame(confusion_matrix(pipeline_ls.predict(testX), testY),\n",
    "#            columns = ['Predicted:Bad', 'Predicted:Good'],\n",
    "#            index = ['Actual:Bad', 'Actual:Good'])\n",
    "\n",
    "\n",
    "#print('\\nCLASSIFICATION REPORT\\n')\n",
    "#print(classification_report(pipeline_ls.predict(testX), testY,\n",
    "#                            target_names =['Bad','Good']))\n",
    "\n",
    "#print('\\nCONFUSION MATRIX')\n",
    "#plt.figure(figsize= (6,4))\n",
    "#sns.heatmap(con_mat, annot = True,fmt='d',cmap=\"YlGnBu\")"
   ]
  },
  {
   "cell_type": "code",
   "execution_count": 46,
   "metadata": {},
   "outputs": [],
   "source": [
    "#trainX.toarray()"
   ]
  },
  {
   "cell_type": "code",
   "execution_count": 47,
   "metadata": {},
   "outputs": [],
   "source": [
    "\n",
    "#trainX = encoder.fit_transform(trainX)"
   ]
  },
  {
   "cell_type": "code",
   "execution_count": 48,
   "metadata": {},
   "outputs": [],
   "source": [
    "#from sklearn.feature_extraction.text import TfidfVectorizer\n",
    "#vec = TfidfVectorizer()\n",
    "#trainX = vec.fit_transform(trainX)"
   ]
  },
  {
   "cell_type": "code",
   "execution_count": 49,
   "metadata": {},
   "outputs": [],
   "source": [
    "#testX = vec.fit_transform(testX)"
   ]
  },
  {
   "cell_type": "code",
   "execution_count": 50,
   "metadata": {},
   "outputs": [],
   "source": [
    "#from sklearn.ensemble import GradientBoostingClassifier\n",
    "#gbc = GradientBoostingClassifier(max_depth=4,learning_rate=0.7)\n",
    "#gbc.fit(trainX,trainY)"
   ]
  },
  {
   "cell_type": "code",
   "execution_count": 51,
   "metadata": {},
   "outputs": [],
   "source": [
    "#predicting the target value from the model for the samples\n",
    "#y_train_gbc = gbc.predict(trainX)\n",
    "#y_test_gbc = gbc.predict(testX)"
   ]
  },
  {
   "cell_type": "markdown",
   "metadata": {
    "papermill": {
     "duration": 0.086899,
     "end_time": "2021-03-04T05:37:03.951100",
     "exception": false,
     "start_time": "2021-03-04T05:37:03.864201",
     "status": "completed"
    },
    "tags": []
   },
   "source": [
    "# Import the model in pickle."
   ]
  },
  {
   "cell_type": "code",
   "execution_count": 52,
   "metadata": {
    "execution": {
     "iopub.execute_input": "2021-03-04T05:37:04.227533Z",
     "iopub.status.busy": "2021-03-04T05:37:04.128686Z",
     "iopub.status.idle": "2021-03-04T05:37:04.244570Z",
     "shell.execute_reply": "2021-03-04T05:37:04.243917Z"
    },
    "papermill": {
     "duration": 0.207049,
     "end_time": "2021-03-04T05:37:04.244706",
     "exception": false,
     "start_time": "2021-03-04T05:37:04.037657",
     "status": "completed"
    },
    "tags": []
   },
   "outputs": [],
   "source": [
    "pickle.dump(pipeline_ls,open('phishing.pkl','wb'))"
   ]
  },
  {
   "cell_type": "code",
   "execution_count": 53,
   "metadata": {
    "execution": {
     "iopub.execute_input": "2021-03-04T05:37:04.371085Z",
     "iopub.status.busy": "2021-03-04T05:37:04.370508Z",
     "iopub.status.idle": "2021-03-04T05:37:06.549449Z",
     "shell.execute_reply": "2021-03-04T05:37:06.549913Z"
    },
    "papermill": {
     "duration": 2.247682,
     "end_time": "2021-03-04T05:37:06.550085",
     "exception": false,
     "start_time": "2021-03-04T05:37:04.302403",
     "status": "completed"
    },
    "tags": []
   },
   "outputs": [
    {
     "name": "stdout",
     "output_type": "stream",
     "text": [
      "0.9702708606378331\n"
     ]
    }
   ],
   "source": [
    "loaded_model = pickle.load(open('phishing.pkl', 'rb'))\n",
    "result = loaded_model.score(testX,testY)\n",
    "print(result)"
   ]
  },
  {
   "cell_type": "code",
   "execution_count": 54,
   "metadata": {
    "papermill": {
     "duration": 0.056632,
     "end_time": "2021-03-04T05:37:06.777748",
     "exception": false,
     "start_time": "2021-03-04T05:37:06.721116",
     "status": "completed"
    },
    "tags": []
   },
   "outputs": [
    {
     "name": "stdout",
     "output_type": "stream",
     "text": [
      "enter url: https://www.samsung.com/in/\n",
      "['bad']\n"
     ]
    }
   ],
   "source": [
    "vinay = input(\"enter url: \")\n",
    "output = pipeline_ls.predict([vinay])\n",
    "print(output)"
   ]
  }
 ],
 "metadata": {
  "kernelspec": {
   "display_name": "Python 3 (ipykernel)",
   "language": "python",
   "name": "python3"
  },
  "language_info": {
   "codemirror_mode": {
    "name": "ipython",
    "version": 3
   },
   "file_extension": ".py",
   "mimetype": "text/x-python",
   "name": "python",
   "nbconvert_exporter": "python",
   "pygments_lexer": "ipython3",
   "version": "3.9.13"
  },
  "papermill": {
   "default_parameters": {},
   "duration": 160.979506,
   "end_time": "2021-03-04T05:37:08.047210",
   "environment_variables": {},
   "exception": null,
   "input_path": "__notebook__.ipynb",
   "output_path": "__notebook__.ipynb",
   "parameters": {},
   "start_time": "2021-03-04T05:34:27.067704",
   "version": "2.2.2"
  }
 },
 "nbformat": 4,
 "nbformat_minor": 4
}
